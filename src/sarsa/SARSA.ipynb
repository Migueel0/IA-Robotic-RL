{
 "cells": [
  {
   "cell_type": "markdown",
   "metadata": {
    "tags": []
   },
   "source": [
    "# Implementación algoritmo SARSA en robótica móvil\n",
    "\n",
    "## Inteligencia Artificial\n",
    "### Grado en Ingeniería Informática - Ingeniería del Software\n",
    "### Curso 2023/2024\n",
    "### Alumno 1: David Fuentelsaz Rodríguez\n",
    "### Alumno 2: Miguel Galán Lerate\n"
   ]
  },
  {
   "cell_type": "markdown",
   "metadata": {},
   "source": [
    "Este fichero contiene nuestra implementación del algoritmo SARSA aplicado a un problema de aprendizaje por refuerzo en robótica móvil, donde un robot con ruedas debe planificar una ruta en un entorno con obstáculos.\n",
    "\n",
    "Como recordatorio, SARSA (State Action Reward State Action) es un algoritmo de aprendizaje por refuerzo que permite a un agente interactuar con un entorno y, mediante ensayo y error, aprender cuáles son las mejores acciones para realizar en cada estado (aprendizaje de una política óptima en un entorno de decisión de Markov). El algoritmo utiliza una tabla (Q-table) donde almacena los valores acumulados de recompensa para cada par estado-acción. A medida que se ejecutan iteraciones del algoritmo, el agente actualiza su tabla Q basándose en sus experiencias con el entorno. \n",
    "\n",
    "Además, es importante destacar que SARSA, a diferencia de Q-Learning, sigue un enfoque denominado 'on-policy', lo que significa que la actualización de su función de utilidad (Q-values) se realiza a partir de la política seguida por el agente. Esto permite al agente aprender qué acciones son mejores en cada estado, teniendo en cuenta su comportamiento actual."
   ]
  },
  {
   "cell_type": "code",
   "execution_count": 1,
   "metadata": {
    "tags": []
   },
   "outputs": [],
   "source": [
    "import numpy as np\n",
    "import random\n",
    "import matplotlib.pyplot as plt"
   ]
  },
  {
   "cell_type": "code",
   "execution_count": 2,
   "metadata": {},
   "outputs": [],
   "source": [
    "# El siguiente código lee el goal y el mapa del fichero\n",
    "\n",
    "def lee_mapa(fichero):\n",
    "    with open(fichero,'r') as archivo:\n",
    "        lineas = archivo.readlines()\n",
    "    numeros = [float(numero) for numero in lineas[0].split()]\n",
    "    lineas.pop(0)\n",
    "    lineas.reverse()\n",
    "    matriz = []\n",
    "    for linea in lineas:\n",
    "        fila = [int(caracter) for caracter in linea.strip()]\n",
    "        matriz.append(fila)\n",
    "    return np.array(matriz),(numeros[0],numeros[1])\n"
   ]
  },
  {
   "cell_type": "code",
   "execution_count": 3,
   "metadata": {},
   "outputs": [
    {
     "name": "stdout",
     "output_type": "stream",
     "text": [
      "[[1 1 1 1 1 1 1 1 1 1 1 1 1 1 1 1 1 1 1 1]\n",
      " [1 0 0 0 0 0 0 0 0 0 0 0 0 1 0 0 0 0 0 1]\n",
      " [1 0 0 0 0 0 0 0 0 0 0 0 0 1 0 0 0 0 0 1]\n",
      " [1 0 0 0 0 0 0 0 0 1 0 0 0 0 0 0 0 0 0 1]\n",
      " [1 0 0 0 0 0 0 0 0 1 0 0 0 0 0 0 0 0 0 1]\n",
      " [1 1 1 1 1 1 1 1 1 1 1 1 1 1 1 1 1 1 1 1]]\n",
      "(16.0, 3.0)\n"
     ]
    }
   ],
   "source": [
    "# Creamos un array que almacene el mapa que se le pase como parámetro a la función lee_mapa, definida anteriormente\n",
    "\n",
    "mapa,destino = lee_mapa(\"map2.txt\")\n",
    "print(mapa)\n",
    "print(destino)\n"
   ]
  },
  {
   "cell_type": "code",
   "execution_count": 4,
   "metadata": {},
   "outputs": [],
   "source": [
    "def visualiza_mapa():\n",
    "    plt.figure(figsize=(len(mapa[0]), len(mapa)))\n",
    "    plt.imshow(1-mapa, cmap='gray', interpolation='none')\n",
    "    plt.xlim(-0.5, len(mapa[0]) - 0.5)\n",
    "    plt.ylim(-0.5, len(mapa) - 0.5)\n",
    "    plt.gca().add_patch(plt.Circle(destino,radius = 0.5,edgecolor = 'red', facecolor = 'red'))\n",
    "   \n",
    "    "
   ]
  },
  {
   "cell_type": "markdown",
   "metadata": {},
   "source": [
    "El mapa para el problema es el siguiente (el punto rojo define la casilla objetivo):"
   ]
  },
  {
   "cell_type": "code",
   "execution_count": 5,
   "metadata": {},
   "outputs": [
    {
     "data": {
      "image/png": "[encoded data removed]",
      "text/plain": [
       "<Figure size 2000x600 with 1 Axes>"
      ]
     },
     "metadata": {},
     "output_type": "display_data"
    }
   ],
   "source": [
    "visualiza_mapa()\n"
   ]
  },
  {
   "cell_type": "markdown",
   "metadata": {},
   "source": [
    "Los estados del problema serán las casillas del mapa (incluso las que tienen obstáculos), el siguiente código extrae los estados como una lista de tuplas (x,y)"
   ]
  },
  {
   "cell_type": "code",
   "execution_count": 6,
   "metadata": {},
   "outputs": [
    {
     "data": {
      "text/plain": [
       "120"
      ]
     },
     "execution_count": 6,
     "metadata": {},
     "output_type": "execute_result"
    }
   ],
   "source": [
    "nav_estados = []\n",
    "for i in range(0,mapa.shape[1]):\n",
    "    for j in range(0,mapa.shape[0]):\n",
    "        nav_estados.append(tuple([i,j]))\n",
    "len(nav_estados)"
   ]
  },
  {
   "cell_type": "markdown",
   "metadata": {},
   "source": [
    "A continuación definimos las posibles acciones de movimiento que puede tomar el agente. En este caso tenemos una acción por cada movimiento disponible junto con la acción 'esperar', con la cual el robot quedará en el mismo estado (casilla) tras aplicarla."
   ]
  },
  {
   "cell_type": "code",
   "execution_count": 7,
   "metadata": {},
   "outputs": [],
   "source": [
    "nav_acciones = ['esperar','N','NE','E','SE','S','SO','O','NO']\n"
   ]
  },
  {
   "cell_type": "markdown",
   "metadata": {},
   "source": [
    "Las siguientes funciones definidas son las que intervendrán en las iteraciones del algoritmo Q-Learnig. La funcionalidad de cada una de ellas viene explicada con comentarios."
   ]
  },
  {
   "cell_type": "code",
   "execution_count": 8,
   "metadata": {},
   "outputs": [],
   "source": [
    "def hay_colision(estado):\n",
    "    # Verifica si hay una colisión en la casilla especificada por estado\n",
    "    return mapa[estado[1], estado[0]] == 1\n",
    "\n",
    "def aplica_accion(estado, accion):\n",
    "    # Si hay colisión en el estado actual, el estado no cambia pues no hay moviemientos posibles\n",
    "    if hay_colision(estado):\n",
    "        return estado\n",
    "    x = estado[0]\n",
    "    y = estado[1]\n",
    "\n",
    "    # Actualiza las coordenadas x, y según la acción tomada\n",
    "    if accion == 'N':\n",
    "        y += 1\n",
    "    elif accion == 'S':\n",
    "        y -= 1\n",
    "    elif accion == 'E':\n",
    "        x += 1\n",
    "    elif accion == 'O':\n",
    "        x -= 1\n",
    "    elif accion == 'NE':\n",
    "        y += 1\n",
    "        x += 1\n",
    "    elif accion == 'SE':\n",
    "        y -= 1\n",
    "        x += 1\n",
    "    elif accion == 'SO':\n",
    "        y -= 1\n",
    "        x -= 1\n",
    "    elif accion == 'NO':\n",
    "        y += 1\n",
    "        x -= 1\n",
    "    return x, y\n",
    "\n",
    "def obtiene_posibles_errores(accion):\n",
    "    # Devuelve una lista de posibles acciones erróneas que podrían ocurrir al ejecutar la acción dada, debido al\n",
    "    # efecto estocástico de realizar las acciones.\n",
    "    if accion == 'N':\n",
    "        errores = ['NE', 'NO']\n",
    "    elif accion == 'S':\n",
    "        errores = ['SE', 'SO']\n",
    "    elif accion == 'E':\n",
    "        errores = ['NE', 'SE']\n",
    "    elif accion == 'O':\n",
    "        errores = ['NO', 'SO']\n",
    "    elif accion == 'NE':\n",
    "        errores = ['N', 'E']\n",
    "    elif accion == 'NO':\n",
    "        errores = ['N', 'O']\n",
    "    elif accion == 'SE':\n",
    "        errores = ['S', 'E']\n",
    "    elif accion == 'SO':\n",
    "        errores = ['S', 'O']\n",
    "    else:\n",
    "        errores = []\n",
    "    return errores\n",
    "    \n",
    "def estados_sin_obstaculos():\n",
    "    # Devuelve una lista de estados que no tienen obstáculos\n",
    "    return [estado for estado in nav_estados if not hay_colision(estado)]\n",
    "\n",
    "def escoger_accion(estado, epsilon):\n",
    "    # Si el estado no está en la tabla Q, inicializa sus valores a ceros\n",
    "    if estado not in Q_table:\n",
    "        Q_table[estado] = np.zeros(len(nav_acciones))\n",
    "    \n",
    "    # Usa una política epsilon-greedy para seleccionar una acción\n",
    "    if np.random.rand() < epsilon:\n",
    "        # Selecciona una acción aleatoria con probabilidad epsilon\n",
    "        accion = np.random.randint(0, len(nav_acciones))\n",
    "    else:\n",
    "        # Selecciona la mejor acción conocida con probabilidad 1 - epsilon\n",
    "        accion = np.argmax(Q_table[estado])\n",
    "    return accion\n",
    "\n",
    "def obtener_politica(Q):\n",
    "    # Genera una política basada en la tabla Q\n",
    "    politica = {}\n",
    "    for estado in nav_estados:\n",
    "        if estado in Q_table:\n",
    "            politica[estado] = np.argmax(Q_table[estado])\n",
    "        else:\n",
    "            politica[estado] = 0\n",
    "    return politica\n",
    "\n",
    "penalizacion_colision = 10000\n",
    "recompensa_objetivo_alcanzado = 1000\n",
    "penalizacion_esperar = 200\n",
    "penalizacion_casilla_adyacente_obstaculo = 500\n",
    "\n",
    "def obtiene_recompensa(estado, accion):\n",
    "    x, y = estado\n",
    "    \n",
    "    if estado == destino:\n",
    "        return recompensa_objetivo_alcanzado\n",
    "    elif hay_colision(estado):\n",
    "        return -penalizacion_colision\n",
    "    elif accion == 'esperar':\n",
    "        return -penalizacion_esperar      \n",
    "\n",
    "    for accion_error in obtiene_posibles_errores(accion):\n",
    "        estado_vecino = aplica_accion(estado, accion_error)\n",
    "        if hay_colision(estado_vecino):\n",
    "            return -penalizacion_casilla_adyacente_obstaculo  # Recompensa baja para casillas adyacentes a los obstáculos\n",
    "\n",
    "    # Calcula la recompensa en función de la distancia euclidiana al destino\n",
    "    return - np.sqrt((x - destino[0])**2 + (y - destino[1])**2)\n",
    "\n",
    "def actualizar_tabla_Q(estado, accion, recompensa, nuevo_estado, alpha, gamma):\n",
    "    # Si el estado o el nuevo estado no están en la tabla Q, inicializa sus valores a ceros\n",
    "    if estado not in Q_table:\n",
    "        Q_table[estado] = np.zeros(len(nav_acciones))\n",
    "    if nuevo_estado not in Q_table:\n",
    "        Q_table[nuevo_estado] = np.zeros(len(nav_acciones))\n",
    "        \n",
    "    # Encuentra el valor de la mejor acción en el nuevo estado\n",
    "    mejor_accion_nueva = np.max(Q_table[nuevo_estado])\n",
    "    # Actualiza la tabla Q usando la fórmula de Q-Learning\n",
    "    Q_table[estado][accion] = Q_table[estado][accion] + alpha * (recompensa + gamma * mejor_accion_nueva - Q_table[estado][accion])\n",
    "\n",
    "def visualiza_politica(politica):\n",
    "    # Visualiza el mapa y la política actual mediante flechas\n",
    "    visualiza_mapa()\n",
    "    for estado in nav_estados:\n",
    "        accion = nav_acciones[politica.get(estado, 'esperar')] # Si el estado no está en el diccionario, se devuelve esperar por defecto\n",
    "        if accion == 'esperar':\n",
    "            continue\n",
    "        e1 = aplica_accion(estado, accion)\n",
    "        x0 = estado[0]\n",
    "        y0 = estado[1]\n",
    "        x1 = e1[0]\n",
    "        y1 = e1[1]\n",
    "        \n",
    "        plt.gca().arrow(x0, y0, (x1 - x0) * 0.6, (y1 - y0) * 0.6,\n",
    "                        head_width=0.3, head_length=0.3, fc='orange', ec='orange')\n"
   ]
  },
  {
   "cell_type": "markdown",
   "metadata": {},
   "source": [
    "A continuación, comenzamos con la implementación del algoritmo SARSA."
   ]
  },
  {
   "cell_type": "code",
   "execution_count": 9,
   "metadata": {},
   "outputs": [
    {
     "name": "stdout",
     "output_type": "stream",
     "text": [
      "Episodio 100 completado. Estado final: (8, 4). Recompensa total: -161.24515496597098.\n",
      "Episodio 200 completado. Estado final: (8, 2). Recompensa total: -161.24515496597098.\n",
      "Episodio 300 completado. Estado final: (1, 2). Recompensa total: -300.6659275674581.\n",
      "Episodio 400 completado. Estado final: (11, 2). Recompensa total: -101.98039027185567.\n",
      "Episodio 500 completado. Estado final: (15, 1). Recompensa total: -44.72135954999578.\n",
      "Episodio 600 completado. Estado final: (11, 2). Recompensa total: -101.98039027185567.\n",
      "Episodio 700 completado. Estado final: (5, 2). Recompensa total: -220.9072203437451.\n",
      "Episodio 800 completado. Estado final: (1, 4). Recompensa total: -300.6659275674581.\n",
      "Episodio 900 completado. Estado final: (16, 1). Recompensa total: -40.0.\n",
      "Episodio 1000 completado. Estado final: (3, 4). Recompensa total: -260.768096208106.\n",
      "Episodio 1100 completado. Estado final: (7, 2). Recompensa total: -181.10770276274826.\n",
      "Episodio 1200 completado. Estado final: (5, 4). Recompensa total: -220.9072203437451.\n",
      "Episodio 1300 completado. Estado final: (18, 4). Recompensa total: -44.72135954999578.\n",
      "Episodio 1400 completado. Estado final: (4, 4). Recompensa total: -240.83189157584584.\n",
      "Episodio 1500 completado. Estado final: (14, 3). Recompensa total: -40.0.\n",
      "Episodio 1600 completado. Estado final: (12, 1). Recompensa total: -89.44271909999156.\n",
      "Episodio 1700 completado. Estado final: (15, 4). Recompensa total: -28.284271247461913.\n",
      "Episodio 1800 completado. Estado final: (15, 3). Recompensa total: -20.0.\n",
      "Episodio 1900 completado. Estado final: (10, 3). Recompensa total: -120.0.\n",
      "Episodio 2000 completado. Estado final: (3, 4). Recompensa total: -260.768096208106.\n",
      "Episodio 2100 completado. Estado final: (11, 4). Recompensa total: -101.98039027185567.\n",
      "Episodio 2200 completado. Estado final: (7, 1). Recompensa total: -184.39088914585778.\n",
      "Episodio 2300 completado. Estado final: (17, 1). Recompensa total: -44.72135954999578.\n",
      "Episodio 2400 completado. Estado final: (6, 2). Recompensa total: -200.9975124224178.\n",
      "Episodio 2500 completado. Estado final: (10, 4). Recompensa total: -121.65525060596444.\n",
      "Episodio 2600 completado. Estado final: (9, 2). Recompensa total: -141.4213562373095.\n",
      "Episodio 2700 completado. Estado final: (15, 4). Recompensa total: -28.284271247461913.\n",
      "Episodio 2800 completado. Estado final: (17, 1). Recompensa total: -44.72135954999578.\n",
      "Episodio 2900 completado. Estado final: (17, 1). Recompensa total: -44.72135954999578.\n",
      "Episodio 3000 completado. Estado final: (18, 2). Recompensa total: -44.72135954999578.\n",
      "Episodio 3100 completado. Estado final: (7, 1). Recompensa total: -184.39088914585778.\n",
      "Episodio 3200 completado. Estado final: (9, 1). Recompensa total: -145.6021977856104.\n",
      "Episodio 3300 completado. Estado final: (9, 1). Recompensa total: -145.6021977856104.\n",
      "Episodio 3400 completado. Estado final: (6, 2). Recompensa total: -200.9975124224178.\n",
      "Episodio 3500 completado. Estado final: (15, 3). Recompensa total: -20.0.\n",
      "Episodio 3600 completado. Estado final: (11, 3). Recompensa total: -100.0.\n",
      "Episodio 3700 completado. Estado final: (9, 2). Recompensa total: -141.4213562373095.\n",
      "Episodio 3800 completado. Estado final: (6, 2). Recompensa total: -200.9975124224178.\n",
      "Episodio 3900 completado. Estado final: (6, 2). Recompensa total: -200.9975124224178.\n",
      "Episodio 4000 completado. Estado final: (7, 2). Recompensa total: -181.10770276274826.\n",
      "Episodio 4100 completado. Estado final: (17, 1). Recompensa total: -44.72135954999578.\n",
      "Episodio 4200 completado. Estado final: (12, 1). Recompensa total: -89.44271909999156.\n",
      "Episodio 4300 completado. Estado final: (2, 4). Recompensa total: -280.71337695236406.\n",
      "Episodio 4400 completado. Estado final: (7, 1). Recompensa total: -184.39088914585778.\n",
      "Episodio 4500 completado. Estado final: (15, 3). Recompensa total: -20.0.\n",
      "Episodio 4600 completado. Estado final: (5, 4). Recompensa total: -220.9072203437451.\n",
      "Episodio 4700 completado. Estado final: (12, 4). Recompensa total: -82.46211251235319.\n",
      "Episodio 4800 completado. Estado final: (14, 2). Recompensa total: -44.72135954999578.\n",
      "Episodio 4900 completado. Estado final: (8, 4). Recompensa total: -161.24515496597098.\n",
      "Episodio 5000 completado. Estado final: (2, 2). Recompensa total: -280.71337695236406.\n",
      "Episodio 5100 completado. Estado final: (12, 1). Recompensa total: -89.44271909999156.\n",
      "Episodio 5200 completado. Estado final: (14, 1). Recompensa total: -56.568542494923825.\n",
      "Episodio 5300 completado. Estado final: (15, 3). Recompensa total: -20.0.\n",
      "Episodio 5400 completado. Estado final: (14, 1). Recompensa total: -56.568542494923825.\n",
      "Episodio 5500 completado. Estado final: (18, 3). Recompensa total: -40.0.\n",
      "Episodio 5600 completado. Estado final: (13, 3). Recompensa total: -60.0.\n",
      "Episodio 5700 completado. Estado final: (6, 4). Recompensa total: -200.9975124224178.\n",
      "Episodio 5800 completado. Estado final: (12, 3). Recompensa total: -80.0.\n",
      "Episodio 5900 completado. Estado final: (16, 1). Recompensa total: -40.0.\n",
      "Episodio 6000 completado. Estado final: (7, 3). Recompensa total: -180.0.\n",
      "Episodio 6100 completado. Estado final: (10, 4). Recompensa total: -121.65525060596444.\n",
      "Episodio 6200 completado. Estado final: (13, 3). Recompensa total: -60.0.\n",
      "Episodio 6300 completado. Estado final: (4, 4). Recompensa total: -240.83189157584584.\n",
      "Episodio 6400 completado. Estado final: (11, 4). Recompensa total: -101.98039027185567.\n",
      "Episodio 6500 completado. Estado final: (11, 1). Recompensa total: -107.70329614269004.\n",
      "Episodio 6600 completado. Estado final: (16, 3). Recompensa total: 1000.\n",
      "Episodio 6700 completado. Estado final: (14, 1). Recompensa total: -56.568542494923825.\n",
      "Episodio 6800 completado. Estado final: (9, 1). Recompensa total: -145.6021977856104.\n",
      "Episodio 6900 completado. Estado final: (5, 4). Recompensa total: -220.9072203437451.\n",
      "Episodio 7000 completado. Estado final: (17, 3). Recompensa total: -20.0.\n",
      "Episodio 7100 completado. Estado final: (1, 3). Recompensa total: -300.0.\n",
      "Episodio 7200 completado. Estado final: (5, 1). Recompensa total: -223.60679774997894.\n",
      "Episodio 7300 completado. Estado final: (14, 4). Recompensa total: -44.72135954999578.\n",
      "Episodio 7400 completado. Estado final: (11, 3). Recompensa total: -100.0.\n",
      "Episodio 7500 completado. Estado final: (5, 4). Recompensa total: -220.9072203437451.\n",
      "Episodio 7600 completado. Estado final: (16, 1). Recompensa total: -40.0.\n",
      "Episodio 7700 completado. Estado final: (12, 3). Recompensa total: -80.0.\n",
      "Episodio 7800 completado. Estado final: (16, 4). Recompensa total: -20.0.\n",
      "Episodio 7900 completado. Estado final: (5, 2). Recompensa total: -220.9072203437451.\n",
      "Episodio 8000 completado. Estado final: (6, 4). Recompensa total: -200.9975124224178.\n",
      "Episodio 8100 completado. Estado final: (8, 2). Recompensa total: -161.24515496597098.\n",
      "Episodio 8200 completado. Estado final: (12, 2). Recompensa total: -82.46211251235319.\n",
      "Episodio 8300 completado. Estado final: (15, 2). Recompensa total: -28.284271247461913.\n",
      "Episodio 8400 completado. Estado final: (5, 2). Recompensa total: -220.9072203437451.\n",
      "Episodio 8500 completado. Estado final: (4, 3). Recompensa total: -240.0.\n",
      "Episodio 8600 completado. Estado final: (15, 3). Recompensa total: -20.0.\n",
      "Episodio 8700 completado. Estado final: (11, 3). Recompensa total: -100.0.\n",
      "Episodio 8800 completado. Estado final: (15, 3). Recompensa total: -20.0.\n",
      "Episodio 8900 completado. Estado final: (18, 4). Recompensa total: -44.72135954999578.\n",
      "Episodio 9000 completado. Estado final: (1, 2). Recompensa total: -300.6659275674581.\n",
      "Episodio 9100 completado. Estado final: (14, 4). Recompensa total: -44.72135954999578.\n",
      "Episodio 9200 completado. Estado final: (18, 1). Recompensa total: -56.568542494923825.\n",
      "Episodio 9300 completado. Estado final: (8, 4). Recompensa total: -161.24515496597098.\n",
      "Episodio 9400 completado. Estado final: (2, 1). Recompensa total: -282.842712474619.\n",
      "Episodio 9500 completado. Estado final: (5, 2). Recompensa total: -220.9072203437451.\n",
      "Episodio 9600 completado. Estado final: (11, 4). Recompensa total: -101.98039027185567.\n",
      "Episodio 9700 completado. Estado final: (3, 3). Recompensa total: -260.0.\n",
      "Episodio 9800 completado. Estado final: (12, 3). Recompensa total: -80.0.\n",
      "Episodio 9900 completado. Estado final: (13, 4). Recompensa total: -63.24555320336757.\n",
      "Episodio 10000 completado. Estado final: (8, 3). Recompensa total: -160.0.\n"
     ]
    }
   ],
   "source": [
    "# Parámetros del algoritmo SARSA\n",
    "epsilon = 0.9\n",
    "epsilon_min = 0.1\n",
    "epsilon_decay = 0.99\n",
    "alpha = 0.6\n",
    "gamma = 0.9\n",
    "num_episodios = 10000\n",
    "max_pasos = 20\n",
    "\n",
    "# Inicializamos Q\n",
    "Q_table = {}\n",
    "\n",
    "for episodio in range(num_episodios):\n",
    "    estado = random.choice(estados_sin_obstaculos())\n",
    "    accion = escoger_accion(estado, epsilon)\n",
    "    recompensa_total = 0\n",
    "    \n",
    "    for t in range(max_pasos):\n",
    "        nuevo_estado = aplica_accion(estado, accion)\n",
    "        recompensa = obtiene_recompensa(nuevo_estado, accion)\n",
    "        nueva_accion = escoger_accion(estado, epsilon)\n",
    "        actualizar_tabla_Q(estado, accion, recompensa, nuevo_estado, alpha, gamma)\n",
    "        \n",
    "        estado = nuevo_estado\n",
    "        accion = nueva_accion\n",
    "        recompensa_total += recompensa\n",
    "\n",
    "        if estado == destino:\n",
    "            break\n",
    "\n",
    "    # Disminuir epsilon gradualmente\n",
    "    epsilon = max(epsilon_min, epsilon * epsilon_decay)\n",
    "\n",
    "    if (episodio + 1) % 100 == 0:\n",
    "        print(f\"Episodio {episodio + 1} completado. Estado final: {estado}. Recompensa total: {recompensa_total}.\")\n",
    "    "
   ]
  },
  {
   "cell_type": "code",
   "execution_count": 10,
   "metadata": {},
   "outputs": [
    {
     "name": "stdout",
     "output_type": "stream",
     "text": [
      "Q-Table:\n",
      "dict_items([((6, 1), array([-101.98035406, -101.98035379, -101.98035221, -101.98035417,\n",
      "       -101.98035339, -101.98035475, -101.9803545 , -101.98035221,\n",
      "       -101.98035151])), ((12, 2), array([-41.23105275, -41.23105256, -41.23105249, -41.23105248,\n",
      "       -41.23105243, -41.23105263, -41.23105259, -41.23105252,\n",
      "       -41.23105263])), ((10, 4), array([-60.82760698, -60.82760638, -60.82760668, -60.82760717,\n",
      "       -60.82760704, -60.82760671, -60.82760633, -60.82760617,\n",
      "       -60.82760758])), ((12, 1), array([-44.72133998, -44.72134019, -44.72134051, -44.72133991,\n",
      "       -44.7213395 , -44.7213411 , -44.72133977, -44.72134006,\n",
      "       -44.72134083])), ((4, 3), array([-119.99978585, -119.99978894, -119.99978111, -119.99977783,\n",
      "       -119.99978678, -119.99978087, -119.99979097, -119.99978859,\n",
      "       -119.99978458])), ((1, 3), array([-149.99988166, -149.99987937, -149.99987654, -149.99988052,\n",
      "       -149.99988405, -149.99988033, -149.99988219, -149.99988235,\n",
      "       -149.99988216])), ((3, 1), array([-131.52940946, -131.52941105, -131.52941007, -131.52941049,\n",
      "       -131.52940818, -131.52940635, -131.52940774, -131.5294069 ,\n",
      "       -131.52940992])), ((8, 1), array([-82.4620933 , -82.46209201, -82.46209312, -82.46209343,\n",
      "       -82.46209302, -82.46209273, -82.46209224, -82.46209262,\n",
      "       -82.46209331])), ((5, 1), array([-111.80333816, -111.80333445, -111.80333373, -111.80333552,\n",
      "       -111.8033369 , -111.80333622, -111.80333412, -111.8033376 ,\n",
      "       -111.80333289])), ((6, 2), array([-100.49875096, -100.4987509 , -100.49875096, -100.49875086,\n",
      "       -100.49875098, -100.49875103, -100.49875087, -100.49875119,\n",
      "       -100.49875082])), ((14, 3), array([-19.99999816, -19.99999825, -19.99999817, -19.99999813,\n",
      "       -19.99999815, -19.99999823, -19.99999821, -19.99999819,\n",
      "       -19.99999827])), ((6, 3), array([-99.99998914, -99.9999892 , -99.99998987, -99.9999891 ,\n",
      "       -99.99998932, -99.99998977, -99.99998954, -99.99998901,\n",
      "       -99.99998991])), ((7, 4), array([-90.55376505, -90.55376097, -90.55376411, -90.55375956,\n",
      "       -90.55376175, -90.55376313, -90.55375763, -90.55376324,\n",
      "       -90.55375978])), ((15, 3), array([-9.99999824, -9.99999836, -9.99999834, -9.99999831, -9.99999838,\n",
      "       -9.99999827, -9.99999833, -9.99999837, -9.99999839])), ((18, 1), array([-28.28421442, -28.28421406, -28.28421204, -28.2842109 ,\n",
      "       -28.28421175, -28.28421133, -28.28421234, -28.28421516,\n",
      "       -28.28421343])), ((13, 3), array([-29.99999532, -29.99999529, -29.99999524, -29.99999559,\n",
      "       -29.99999535, -29.99999533, -29.99999548, -29.99999556,\n",
      "       -29.9999954 ])), ((3, 2), array([-130.38402993, -130.38402982, -130.38402931, -130.3840304 ,\n",
      "       -130.38403006, -130.38403011, -130.38402912, -130.38402939,\n",
      "       -130.38403016])), ((12, 4), array([-41.23103046, -41.23102978, -41.23102985, -41.2310287 ,\n",
      "       -41.2310303 , -41.23103065, -41.23102903, -41.23102841,\n",
      "       -41.23103005])), ((3, 4), array([-130.3839134 , -130.38391704, -130.38391924, -130.38391402,\n",
      "       -130.38391097, -130.38391565, -130.38392154, -130.38391487,\n",
      "       -130.38391263])), ((10, 3), array([-59.99998406, -59.99998499, -59.99998423, -59.99998447,\n",
      "       -59.99998382, -59.99998368, -59.99998466, -59.99998389,\n",
      "       -59.99998481])), ((5, 4), array([-110.45360041, -110.4536011 , -110.45360095, -110.45360104,\n",
      "       -110.45360055, -110.45360087, -110.45360119, -110.45360073,\n",
      "       -110.45360101])), ((16, 3), array([5829.14941604, 1514.8464    , 5987.44191516,    0.        ,\n",
      "       9998.80692808, 9579.78601054, 2498.22099136, 5994.38195117,\n",
      "       6559.88762133])), ((16, 1), array([-19.9999998 , -19.99999979, -19.99999979, -19.9999998 ,\n",
      "       -19.99999978, -19.99999979, -19.99999979, -19.99999979,\n",
      "       -19.99999978])), ((8, 4), array([-80.62256099, -80.62256203, -80.62256107, -80.62256184,\n",
      "       -80.62256232, -80.62256221, -80.62256177, -80.62256204,\n",
      "       -80.62256158])), ((3, 3), array([-129.99993782, -129.99993982, -129.9999393 , -129.99994057,\n",
      "       -129.99993843, -129.99994211, -129.9999388 , -129.99993716,\n",
      "       -129.99994124])), ((14, 4), array([-22.36051897, -22.36052345, -22.36052229, -22.36052938,\n",
      "       -22.36052069, -22.36051866, -22.36052044, -22.360517  ,\n",
      "       -22.36052574])), ((16, 4), array([-9.99999854, -9.9999985 , -9.99999854, -9.99999853, -9.99999856,\n",
      "       -9.99999852, -9.99999857, -9.99999846, -9.99999855])), ((8, 3), array([-79.99996848, -79.99996944, -79.99997074, -79.99997018,\n",
      "       -79.99996836, -79.99996857, -79.99996921, -79.99996972,\n",
      "       -79.99997017])), ((1, 1), array([-151.32738815, -151.32739057, -151.32738728, -151.32738606,\n",
      "       -151.32739142, -151.32738885, -151.32738905, -151.32738521,\n",
      "       -151.32739006])), ((6, 4), array([-100.49873051, -100.49872879, -100.49873106, -100.49872904,\n",
      "       -100.49873062, -100.49872984, -100.49873099, -100.49873024,\n",
      "       -100.49872889])), ((15, 4), array([-14.1421324 , -14.14213218, -14.14213237, -14.14213235,\n",
      "       -14.1421323 , -14.14213213, -14.14213227, -14.14213225,\n",
      "       -14.14213222])), ((2, 1), array([-141.4211934 , -141.42119712, -141.42119518, -141.42118977,\n",
      "       -141.42119464, -141.42119095, -141.42119613, -141.42119258,\n",
      "       -141.4211986 ])), ((7, 3), array([-89.9999938 , -89.99999379, -89.99999402, -89.99999377,\n",
      "       -89.99999391, -89.99999408, -89.99999412, -89.99999423,\n",
      "       -89.99999384])), ((13, 4), array([-31.62276869, -31.62276868, -31.62276873, -31.62276891,\n",
      "       -31.62276926, -31.6227688 , -31.62276879, -31.62276907,\n",
      "       -31.6227687 ])), ((5, 3), array([-109.999994  , -109.9999941 , -109.9999943 , -109.99999386,\n",
      "       -109.99999419, -109.99999407, -109.99999379, -109.99999394,\n",
      "       -109.99999428])), ((11, 1), array([-53.85164651, -53.8516465 , -53.85164657, -53.85164656,\n",
      "       -53.85164659, -53.85164653, -53.85164661, -53.85164652,\n",
      "       -53.85164657])), ((11, 2), array([-50.99016793, -50.99016867, -50.99016876, -50.99016975,\n",
      "       -50.99016841, -50.99016951, -50.9901692 , -50.99016928,\n",
      "       -50.99016904])), ((14, 2), array([-22.36067599, -22.36067588, -22.36067595, -22.36067603,\n",
      "       -22.36067583, -22.36067578, -22.36067582, -22.36067606,\n",
      "       -22.36067597])), ((10, 1), array([-63.24555042, -63.24555034, -63.24555046, -63.24555027,\n",
      "       -63.24555027, -63.2455504 , -63.24555028, -63.24555031,\n",
      "       -63.24555034])), ((10, 2), array([-60.82762071, -60.82762074, -60.82762068, -60.82762078,\n",
      "       -60.82762085, -60.82762076, -60.82762096, -60.82762061,\n",
      "       -60.82762066])), ((17, 4), array([-14.14213393, -14.14213392, -14.14213395, -14.14213392,\n",
      "       -14.14213382, -14.14213392, -14.14213394, -14.14213386,\n",
      "       -14.14213388])), ((14, 1), array([-28.28423369, -28.28423204, -28.28423399, -28.28423231,\n",
      "       -28.2842343 , -28.2842322 , -28.28423259, -28.28423337,\n",
      "       -28.2842347 ])), ((8, 2), array([-80.62257353, -80.62257355, -80.62257358, -80.62257362,\n",
      "       -80.62257363, -80.62257369, -80.6225735 , -80.62257354,\n",
      "       -80.62257347])), ((18, 2), array([-22.36064284, -22.36064454, -22.3606437 , -22.36064497,\n",
      "       -22.36064315, -22.36064309, -22.36064377, -22.36064205,\n",
      "       -22.36064383])), ((2, 3), array([-139.99994282, -139.99994708, -139.99994351, -139.99994585,\n",
      "       -139.99994662, -139.99994338, -139.99994404, -139.99994428,\n",
      "       -139.99994752])), ((12, 3), array([-39.99999626, -39.99999615, -39.9999963 , -39.99999629,\n",
      "       -39.99999608, -39.99999607, -39.99999622, -39.99999636,\n",
      "       -39.99999628])), ((9, 2), array([-70.71066203, -70.71066202, -70.71066157, -70.71066224,\n",
      "       -70.71066215, -70.71066237, -70.71066119, -70.71066182,\n",
      "       -70.71066217])), ((4, 4), array([-120.41594051, -120.41594014, -120.41594053, -120.41594042,\n",
      "       -120.41594049, -120.4159402 , -120.41594032, -120.41594023,\n",
      "       -120.41594045])), ((15, 1), array([-22.36067887, -22.36067892, -22.36067887, -22.3606789 ,\n",
      "       -22.36067888, -22.36067894, -22.36067887, -22.36067888,\n",
      "       -22.36067887])), ((4, 2), array([-120.41593599, -120.41593601, -120.41593647, -120.4159365 ,\n",
      "       -120.41593592, -120.41593614, -120.41593671, -120.41593591,\n",
      "       -120.41593607])), ((17, 3), array([-9.99997286, -9.99997502, -9.99997449, -9.9999732 , -9.99997394,\n",
      "       -9.99997473, -9.99997425, -9.9999737 , -9.9999735 ])), ((4, 1), array([-121.65524309, -121.65524334, -121.65524304, -121.65524362,\n",
      "       -121.6552434 , -121.65524353, -121.65524316, -121.65524299,\n",
      "       -121.6552433 ])), ((11, 3), array([-49.99997305, -49.99997122, -49.99997272, -49.9999708 ,\n",
      "       -49.99997211, -49.99997322, -49.99997172, -49.99997221,\n",
      "       -49.99997211])), ((2, 2), array([-140.35666759, -140.35666806, -140.35666785, -140.35666758,\n",
      "       -140.35666798, -140.35666779, -140.3566664 , -140.35666706,\n",
      "       -140.35666734])), ((17, 1), array([-22.360656  , -22.36065759, -22.36065625, -22.36065631,\n",
      "       -22.36065582, -22.36065707, -22.36065665, -22.36065652,\n",
      "       -22.36065573])), ((15, 2), array([-14.14213161, -14.14213142, -14.14213134, -14.14213126,\n",
      "       -14.1421315 , -14.1421313 , -14.14213145, -14.14213157,\n",
      "       -14.14213138])), ((18, 3), array([-19.99999561, -19.9999955 , -19.99999554, -19.99999575,\n",
      "       -19.99999538, -19.99999572, -19.99999543, -19.9999954 ,\n",
      "       -19.99999567])), ((11, 4), array([-50.99019008, -50.99019043, -50.99019004, -50.9901904 ,\n",
      "       -50.99019031, -50.99019022, -50.99019039, -50.99019046,\n",
      "       -50.99019036])), ((2, 4), array([-140.3566146 , -140.35660934, -140.35661216, -140.35661268,\n",
      "       -140.35661153, -140.35661351, -140.35660974, -140.35661074,\n",
      "       -140.35661319])), ((17, 2), array([-14.14213407, -14.14213407, -14.14213407, -14.14213399,\n",
      "       -14.14213402, -14.14213406, -14.1421341 , -14.14213404,\n",
      "       -14.14213409])), ((9, 1), array([-72.80107574, -72.80107501, -72.80107697, -72.80107612,\n",
      "       -72.80107572, -72.80107681, -72.80107497, -72.80107658,\n",
      "       -72.80107643])), ((7, 1), array([-92.19543581, -92.19543523, -92.19543521, -92.19543579,\n",
      "       -92.19543588, -92.19543596, -92.19543519, -92.19543535,\n",
      "       -92.19543569])), ((16, 2), array([-9.99999974, -9.99999975, -9.99999974, -9.99999975, -9.99999975,\n",
      "       -9.99999975, -9.99999973, -9.99999975, -9.99999974])), ((7, 2), array([-90.55384017, -90.55383979, -90.55384054, -90.55384023,\n",
      "       -90.55384026, -90.55384042, -90.55384039, -90.55383968,\n",
      "       -90.55384   ])), ((18, 4), array([-22.36067613, -22.36067605, -22.36067621, -22.36067609,\n",
      "       -22.36067625, -22.36067625, -22.36067617, -22.36067631,\n",
      "       -22.36067611])), ((1, 4), array([-150.33295712, -150.33295699, -150.33295693, -150.33295658,\n",
      "       -150.33295672, -150.33295666, -150.33295661, -150.33295656,\n",
      "       -150.33295659])), ((1, 2), array([-150.33282993, -150.33281863, -150.33282282, -150.33282467,\n",
      "       -150.3328217 , -150.33282082, -150.3328271 , -150.33282763,\n",
      "       -150.33282025])), ((5, 2), array([-110.45360548, -110.45360574, -110.45360566, -110.4536054 ,\n",
      "       -110.45360555, -110.45360545, -110.45360563, -110.45360538,\n",
      "       -110.45360541]))])\n"
     ]
    }
   ],
   "source": [
    "# Configuración del ancho de impresión para evitar el corte del contenido de la tabla Q\n",
    "np.set_printoptions(threshold=np.inf)\n",
    "\n",
    "print(\"Q-Table:\")\n",
    "print(Q_table.items())"
   ]
  },
  {
   "cell_type": "markdown",
   "metadata": {},
   "source": [
    "A partir de la tabla Q podemos extraer la política actualizada"
   ]
  },
  {
   "cell_type": "code",
   "execution_count": 11,
   "metadata": {},
   "outputs": [
    {
     "data": {
      "image/png": "[encoded data removed]",
      "text/plain": [
       "<Figure size 2000x600 with 1 Axes>"
      ]
     },
     "metadata": {},
     "output_type": "display_data"
    }
   ],
   "source": [
    "politica_actualizada = obtener_politica(Q_table)\n",
    "visualiza_politica(politica_actualizada)"
   ]
  },
  {
   "cell_type": "code",
   "execution_count": 12,
   "metadata": {},
   "outputs": [
    {
     "name": "stdout",
     "output_type": "stream",
     "text": [
      "{(0, 0): 0, (0, 1): 0, (0, 2): 0, (0, 3): 0, (0, 4): 0, (0, 5): 0, (1, 0): 0, (1, 1): 7, (1, 2): 1, (1, 3): 2, (1, 4): 7, (1, 5): 0, (2, 0): 0, (2, 1): 3, (2, 2): 6, (2, 3): 0, (2, 4): 1, (2, 5): 0, (3, 0): 0, (3, 1): 5, (3, 2): 6, (3, 3): 7, (3, 4): 4, (3, 5): 0, (4, 0): 0, (4, 1): 7, (4, 2): 7, (4, 3): 3, (4, 4): 1, (4, 5): 0, (5, 0): 0, (5, 1): 8, (5, 2): 7, (5, 3): 6, (5, 4): 0, (5, 5): 0, (6, 0): 0, (6, 1): 8, (6, 2): 8, (6, 3): 7, (6, 4): 1, (6, 5): 0, (7, 0): 0, (7, 1): 6, (7, 2): 7, (7, 3): 3, (7, 4): 6, (7, 5): 0, (8, 0): 0, (8, 1): 1, (8, 2): 8, (8, 3): 4, (8, 4): 0, (8, 5): 0, (9, 0): 0, (9, 1): 6, (9, 2): 6, (9, 3): 0, (9, 4): 0, (9, 5): 0, (10, 0): 0, (10, 1): 3, (10, 2): 7, (10, 3): 5, (10, 4): 7, (10, 5): 0, (11, 0): 0, (11, 1): 1, (11, 2): 0, (11, 3): 3, (11, 4): 2, (11, 5): 0, (12, 0): 0, (12, 1): 4, (12, 2): 4, (12, 3): 5, (12, 4): 7, (12, 5): 0, (13, 0): 0, (13, 1): 0, (13, 2): 0, (13, 3): 2, (13, 4): 1, (13, 5): 0, (14, 0): 0, (14, 1): 1, (14, 2): 5, (14, 3): 3, (14, 4): 7, (14, 5): 0, (15, 0): 0, (15, 1): 6, (15, 2): 3, (15, 3): 0, (15, 4): 5, (15, 5): 0, (16, 0): 0, (16, 1): 4, (16, 2): 6, (16, 3): 4, (16, 4): 7, (16, 5): 0, (17, 0): 0, (17, 1): 8, (17, 2): 3, (17, 3): 0, (17, 4): 4, (17, 5): 0, (18, 0): 0, (18, 1): 3, (18, 2): 7, (18, 3): 4, (18, 4): 1, (18, 5): 0, (19, 0): 0, (19, 1): 0, (19, 2): 0, (19, 3): 0, (19, 4): 0, (19, 5): 0}\n"
     ]
    }
   ],
   "source": [
    "print(politica_actualizada)"
   ]
  }
 ],
 "metadata": {
  "interpreter": {
   "hash": "2099bd325dbeaf7e4e8caf45fe7825414fd9ac8256d419d411c81b62c4bb80b8"
  },
  "kernelspec": {
   "display_name": "Python 3 (ipykernel)",
   "language": "python",
   "name": "python3"
  },
  "language_info": {
   "codemirror_mode": {
    "name": "ipython",
    "version": 3
   },
   "file_extension": ".py",
   "mimetype": "text/x-python",
   "name": "python",
   "nbconvert_exporter": "python",
   "pygments_lexer": "ipython3",
   "version": "3.12.2"
  }
 },
 "nbformat": 4,
 "nbformat_minor": 4
}
